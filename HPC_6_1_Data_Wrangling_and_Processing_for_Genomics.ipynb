{
  "nbformat": 4,
  "nbformat_minor": 0,
  "metadata": {
    "colab": {
      "name": "HPC 6.1 Data Wrangling and Processing for Genomics.ipynb",
      "provenance": [],
      "collapsed_sections": []
    },
    "kernelspec": {
      "name": "python3",
      "display_name": "Python 3"
    },
    "language_info": {
      "name": "python"
    }
  },
  "cells": [
    {
      "cell_type": "markdown",
      "metadata": {
        "id": "O90Ad_h1hOz6"
      },
      "source": [
        "# HPC 6.1 Data Wrangling and Processing for Genomics\n",
        "\n",
        "A lot of genomics analysis is done using command-line tools for three reasons: \n",
        "\n",
        "* you will often be working with a large number of files, and working through the command-line rather than through a graphical user interface (GUI) allows you to automate repetitive tasks, \n",
        "* you will often need more compute power than is available on your personal computer, and connecting to and interacting with remote computers requires a command-line interface, and \n",
        "* you will often need to customise your analyses, and command-line tools often enable more customisation than the corresponding GUI tools (if in fact a GUI tool even exists)."
      ]
    },
    {
      "cell_type": "markdown",
      "metadata": {
        "id": "WcSk9_kshofv"
      },
      "source": [
        "## Installing some tools\n",
        "\n",
        "We are going to install a number of command line tools we'll use for this **pipeline**. You might be familiar with some of them and we'll explain exactly what they do later.\n",
        "\n",
        "There are a number of ways we can do this, here we'll use the **Ubuntu Linux** `apt install` tool but later on ARC we'll do this in a different way."
      ]
    },
    {
      "cell_type": "code",
      "metadata": {
        "id": "sJDw9OULhNcd"
      },
      "source": [
        "!apt install -qq fastqc \\\n",
        "trimmomatic \\\n",
        "bwa \\\n",
        "samtools \\\n",
        "bcftools"
      ],
      "execution_count": null,
      "outputs": []
    },
    {
      "cell_type": "markdown",
      "metadata": {
        "id": "u954cx6Ii0uS"
      },
      "source": [
        "## Lets confirm these tools work\n",
        "\n",
        "We will run each one at the command line to confirm it is installed properly."
      ]
    },
    {
      "cell_type": "code",
      "metadata": {
        "id": "973t83Dfi862"
      },
      "source": [
        "! fastqc -h"
      ],
      "execution_count": null,
      "outputs": []
    },
    {
      "cell_type": "code",
      "metadata": {
        "id": "-QA0sz99jBdQ"
      },
      "source": [
        "!TrimmomaticPE"
      ],
      "execution_count": null,
      "outputs": []
    },
    {
      "cell_type": "code",
      "metadata": {
        "id": "IUzHbmjvjFip"
      },
      "source": [
        "!bwa"
      ],
      "execution_count": null,
      "outputs": []
    },
    {
      "cell_type": "code",
      "metadata": {
        "id": "RjnATvQpjH_9"
      },
      "source": [
        "!samtools"
      ],
      "execution_count": null,
      "outputs": []
    },
    {
      "cell_type": "code",
      "metadata": {
        "id": "YTO5oOv_jKzy"
      },
      "source": [
        "!bcftools"
      ],
      "execution_count": null,
      "outputs": []
    },
    {
      "cell_type": "markdown",
      "metadata": {
        "id": "22pK_omlkfzm"
      },
      "source": [
        "## Downloading data\n",
        "\n",
        "We now need to create a folder to download to, change directory into it and grab the files we are foing to use.\n",
        "\n",
        "This is going to take a few minutes so set it going and we can read ahead and find out more about the workflow."
      ]
    },
    {
      "cell_type": "code",
      "metadata": {
        "id": "_MXw5uwhksv4"
      },
      "source": [
        "!mkdir -p /content/data/untrimmed_fastq/"
      ],
      "execution_count": null,
      "outputs": []
    },
    {
      "cell_type": "code",
      "metadata": {
        "id": "CK4dFKh5k0cR"
      },
      "source": [
        "!ls -l"
      ],
      "execution_count": null,
      "outputs": []
    },
    {
      "cell_type": "code",
      "metadata": {
        "id": "Lb9d_gB_k4ET"
      },
      "source": [
        "%cd /content/data/untrimmed_fastq/"
      ],
      "execution_count": null,
      "outputs": []
    },
    {
      "cell_type": "code",
      "metadata": {
        "id": "sFZ4GmP0k-y_"
      },
      "source": [
        "!curl -O ftp://ftp.sra.ebi.ac.uk/vol1/fastq/SRR258/004/SRR2589044/SRR2589044_1.fastq.gz\n",
        "!curl -O ftp://ftp.sra.ebi.ac.uk/vol1/fastq/SRR258/004/SRR2589044/SRR2589044_2.fastq.gz\n",
        "!curl -O ftp://ftp.sra.ebi.ac.uk/vol1/fastq/SRR258/003/SRR2584863/SRR2584863_1.fastq.gz\n",
        "!curl -O ftp://ftp.sra.ebi.ac.uk/vol1/fastq/SRR258/003/SRR2584863/SRR2584863_2.fastq.gz\n",
        "!curl -O ftp://ftp.sra.ebi.ac.uk/vol1/fastq/SRR258/006/SRR2584866/SRR2584866_1.fastq.gz\n",
        "!curl -O ftp://ftp.sra.ebi.ac.uk/vol1/fastq/SRR258/006/SRR2584866/SRR2584866_2.fastq.gz "
      ],
      "execution_count": null,
      "outputs": []
    },
    {
      "cell_type": "markdown",
      "metadata": {
        "id": "qWu_DKrAjVEV"
      },
      "source": [
        "## Building a workflow\n",
        "\n",
        "When working with high-throughput sequencing data, the raw reads you get off of the sequencer will need to pass through a number of different tools in order to generate your final desired output. The execution of this set of tools in a specified order is commonly referred to as a workflow or a pipeline.\n",
        "\n",
        "\n",
        "![variant_calling_workflow.png](data:image/png;base64,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)\n",
        "\n",
        "\n",
        "An example of the workflow we will be using for our variant calling analysis is provided below with a brief description of each step.\n",
        "\n"
      ]
    },
    {
      "cell_type": "markdown",
      "metadata": {
        "id": "rAAOTKF-j7N_"
      },
      "source": [
        "1. Quality control - Assessing quality using FastQC\n",
        "2. Quality control - Trimming and/or filtering reads (if necessary)\n",
        "3. Align reads to reference genome\n",
        "4. Perform post-alignment clean-up\n",
        "5. Variant calling\n",
        "\n",
        "Our model is of a number of tools chained together. The output from one tool provides an input to the next, and so on.\n",
        "\n",
        "This relies on some standards for data formats agreed within the community.  \n",
        "\n",
        "The tools that are used to analyse data at different stages of the workflow are therefore built under the assumption that the data will be provided in a specific format."
      ]
    },
    {
      "cell_type": "markdown",
      "metadata": {
        "id": "3y_OLaHlljkB"
      },
      "source": [
        "## Part 1: Assessing quality of sequence reads\n",
        "\n",
        "If you look at the filename we've downloaded, it has the file extension `fastq.gz`. The `.gz` means that it's a compressed file. We can uncompress it and take a look at the format."
      ]
    },
    {
      "cell_type": "code",
      "metadata": {
        "id": "TBS4QtKXjNi4"
      },
      "source": [
        "!gzip -dk SRR2589044_1.fastq.gz"
      ],
      "execution_count": null,
      "outputs": []
    },
    {
      "cell_type": "markdown",
      "metadata": {
        "id": "kAkN0rKEmXZl"
      },
      "source": [
        "|Line |\tDescription |\n",
        "|-----|-------------|\n",
        "|1|\tAlways begins with ‘@’ and then information about the read|\n",
        "|2|\tThe actual DNA sequence|\n",
        "|3|\tAlways begins with a ‘+’ and sometimes the same info in line 1|\n",
        "|4|\tHas a string of characters which represent the quality scores; must have same number of characters as line 2|\n",
        "\n",
        "Take a look at the first four lines of one of these files."
      ]
    },
    {
      "cell_type": "code",
      "metadata": {
        "id": "VW0WacfCnTSY"
      },
      "source": [
        "! ls -l"
      ],
      "execution_count": null,
      "outputs": []
    },
    {
      "cell_type": "code",
      "metadata": {
        "id": "JVmgm_XpmWsz"
      },
      "source": [
        "! head -n 4 SRR2589044_1.fastq"
      ],
      "execution_count": null,
      "outputs": []
    },
    {
      "cell_type": "markdown",
      "metadata": {
        "id": "Fvm72tetnpNE"
      },
      "source": [
        "If we knew what we were doing, we could compare line 2 and line 4 to understand read quality.\n",
        "\n",
        "We're not going to do that! We'll use `fastqc` to do that for us.\n",
        "\n",
        "FastQC can accept multiple file names as input, and on both zipped and unzipped files, so we can use the *.fastq* wildcard to run FastQC on all of the FASTQ files in this directory."
      ]
    },
    {
      "cell_type": "code",
      "metadata": {
        "id": "wGQPXpG2n0yv"
      },
      "source": [
        "! fastqc *.fastq* "
      ],
      "execution_count": null,
      "outputs": []
    },
    {
      "cell_type": "markdown",
      "metadata": {
        "id": "aKmzMUX7pCrr"
      },
      "source": [
        "All the outputs are in `html` files so we need to put these somewhere else for later analysis.\n",
        "\n",
        "We will:\n",
        "* make a directory `results`\n",
        "* inside that make a directory `fastqc_untrimmed_reads`\n",
        "\n",
        "What files do we have?"
      ]
    },
    {
      "cell_type": "code",
      "metadata": {
        "id": "Egpnr02ppbzr"
      },
      "source": [
        "!ls -l"
      ],
      "execution_count": null,
      "outputs": []
    },
    {
      "cell_type": "code",
      "metadata": {
        "id": "riziU7koqB5Z"
      },
      "source": [
        "!pwd"
      ],
      "execution_count": null,
      "outputs": []
    },
    {
      "cell_type": "code",
      "metadata": {
        "id": "Vwnur0E-p4a4"
      },
      "source": [
        "! mkdir -p ../../results/fastqc_untrimmed_reads"
      ],
      "execution_count": null,
      "outputs": []
    },
    {
      "cell_type": "markdown",
      "metadata": {
        "id": "71wKPZa7pjhA"
      },
      "source": [
        "We need to move the `zip` and `html` files"
      ]
    },
    {
      "cell_type": "code",
      "metadata": {
        "id": "2LCrjkFtpqaI"
      },
      "source": [
        "! mv *.zip ../../results/fastqc_untrimmed_reads\n",
        "! mv *.html ../../results/fastqc_untrimmed_reads"
      ],
      "execution_count": null,
      "outputs": []
    },
    {
      "cell_type": "markdown",
      "metadata": {
        "id": "UtrK9ibsr7Sd"
      },
      "source": [
        "As there isn't an easy way to view these HTML files directly in the browser, we'll have to pop out the file browser to the left of the page, download to our desktop and then open up in our local browser.\n",
        "\n",
        "Assessing read quality is beyond the scope of this tutorial and is very much problem dependent. You at least have access to the quality reports to make decisions on."
      ]
    },
    {
      "cell_type": "markdown",
      "metadata": {
        "id": "LOuN484UsxyU"
      },
      "source": [
        "## Part 2: Cleaning Reads\n",
        "\n",
        "Fully assessing read quality is a bit beyong the scope of this afternoon, so we're now going to use a program called Trimmomatic to filter poor quality reads and trim poor quality bases from our samples.\n",
        "\n",
        "We can run trimmomatic as either `TrimmomaticPE` or `TrimmomaticSE` for either paired or single ended reads in this notebook, but when we move over to ARC the command are `trimmomatic PE` and `trimmomatic SE`."
      ]
    },
    {
      "cell_type": "markdown",
      "metadata": {
        "id": "Rk8Ueei1taKJ"
      },
      "source": [
        "We can see some of the options:"
      ]
    },
    {
      "cell_type": "code",
      "metadata": {
        "id": "nEcsz44erzV-"
      },
      "source": [
        "! TrimmomaticPE"
      ],
      "execution_count": null,
      "outputs": []
    },
    {
      "cell_type": "markdown",
      "metadata": {
        "id": "4GcvLHCotk_U"
      },
      "source": [
        "For example, you can specify threads to indicate the number of processors on your computer that you want Trimmomatic to use. In most cases using multiple threads (processors) can help to run the trimming faster. \n",
        "\n",
        "These flags are not necessary, but they can give you more control over the command. \n",
        "\n",
        "The flags are followed by positional arguments, meaning the order in which you specify them is important. In paired end mode, Trimmomatic expects the two input files, and then the names of the output files. These files are described below. While, in single end mode, Trimmomatic will expect 1 file as input, after which you can enter the optional settings and lastly the name of the output file.\n",
        "\n",
        "|option\t|meaning|\n",
        "|-------|-------|\n",
        "|\\<inputFile1>|\tInput reads to be trimmed. Typically the file name will contain an _1 or _R1 in the name.|\n",
        "|\\<inputFile2>|\tInput reads to be trimmed. Typically the file name will contain an _2 or _R2 in the name.|\n",
        "|\\<outputFile1P>|\tOutput file that contains surviving pairs from the _1 file.|\n",
        "|\\<outputFile1U>|\tOutput file that contains orphaned reads from the _1 file.|\n",
        "|\\<outputFile2P>|\tOutput file that contains surviving pairs from the _2 file.|\n",
        "|\\<outputFile2U>|\tOutput file that contains orphaned reads from the _2 file.|"
      ]
    },
    {
      "cell_type": "markdown",
      "metadata": {
        "id": "svmIsDO8uHs8"
      },
      "source": [
        "The last thing trimmomatic expects to see is the trimming parameters:\n",
        "\n",
        "|step\t|meaning|\n",
        "|-----|-------|\n",
        "|ILLUMINACLIP|\tPerform adapter removal.|\n",
        "|SLIDINGWINDOW|\tPerform sliding window trimming, cutting once the average quality within the window falls below a threshold.|\n",
        "|LEADING|\tCut bases off the start of a read, if below a threshold quality.|\n",
        "|TRAILING|\tCut bases off the end of a read, if below a threshold quality.|\n",
        "|CROP|\tCut the read to a specified length.|\n",
        "|HEADCROP|\tCut the specified number of bases from the start of the read.|\n",
        "|MINLEN|\tDrop an entire read if it is below a specified length.|\n",
        "|TOPHRED33|\tConvert quality scores to Phred-33.|\n",
        "|TOPHRED64|\tConvert quality scores to Phred-64.|\n",
        "\n",
        "We will use only a few of these options and trimming steps in our analysis. It is important to understand the steps you are using to clean your data. For more information about the Trimmomatic arguments and options, see the Trimmomatic manual."
      ]
    },
    {
      "cell_type": "markdown",
      "metadata": {
        "id": "SBPAUEodubvH"
      },
      "source": [
        "We'll now run Trimmomatic on our data, making sure we get hold of the Nextera adapter file first:"
      ]
    },
    {
      "cell_type": "code",
      "metadata": {
        "id": "OtwWa6JyuHQJ"
      },
      "source": [
        "! wget https://raw.githubusercontent.com/timflutre/trimmomatic/master/adapters/NexteraPE-PE.fa"
      ],
      "execution_count": null,
      "outputs": []
    },
    {
      "cell_type": "code",
      "metadata": {
        "id": "qLBk_l-XtXEb"
      },
      "source": [
        "!ls"
      ],
      "execution_count": null,
      "outputs": []
    },
    {
      "cell_type": "code",
      "metadata": {
        "id": "mglok_VRpG0k"
      },
      "source": [
        "!pwd"
      ],
      "execution_count": null,
      "outputs": []
    },
    {
      "cell_type": "markdown",
      "metadata": {
        "id": "oWXIvwTtvEDB"
      },
      "source": [
        "We will also use a sliding window of size 4 that will remove bases if their phred score is below 20 (like in our example above). We will also discard any reads that do not have at least 25 bases remaining after this trimming step. This command will take a few minutes to run."
      ]
    },
    {
      "cell_type": "code",
      "metadata": {
        "id": "dEfUv-o9u6v8"
      },
      "source": [
        "!TrimmomaticPE  SRR2589044_1.fastq SRR2589044_2.fastq.gz \\\n",
        "                SRR2589044_1.trim.fastq.gz SRR2589044_1un.trim.fastq.gz \\\n",
        "                SRR2589044_2.trim.fastq.gz SRR2589044_2un.trim.fastq.gz \\\n",
        "                SLIDINGWINDOW:4:20 MINLEN:25 ILLUMINACLIP:NexteraPE-PE.fa:2:40:15 "
      ],
      "execution_count": null,
      "outputs": []
    },
    {
      "cell_type": "code",
      "metadata": {
        "id": "Hlrq4D6PwKHZ"
      },
      "source": [
        "!ls -l -h SRR2589044*"
      ],
      "execution_count": null,
      "outputs": []
    },
    {
      "cell_type": "code",
      "metadata": {
        "id": "BYMpQ5EjwYF-"
      },
      "source": [
        "# As we unzipped that file earlier, let's zip it up again\n",
        "!gzip SRR2589044_1.fastq"
      ],
      "execution_count": null,
      "outputs": []
    },
    {
      "cell_type": "code",
      "metadata": {
        "id": "zz3CZ0mqw9Le"
      },
      "source": [
        "!ls -l"
      ],
      "execution_count": null,
      "outputs": []
    },
    {
      "cell_type": "markdown",
      "metadata": {
        "id": "n1ai2TOYvhSH"
      },
      "source": [
        "We've done one file!\n",
        "\n",
        "But we have 4 others. The good news is that we can use a **loop** to run through all five files.\n",
        "\n",
        "Let's write a script file to do this:"
      ]
    },
    {
      "cell_type": "code",
      "metadata": {
        "id": "9ZkMemE1vPdh"
      },
      "source": [
        "%%writefile run_trims.sh\n",
        "for infile in *_1.fastq.gz\n",
        "do\n",
        "   base=$(basename ${infile} _1.fastq.gz)\n",
        "   TrimmomaticPE ${infile} ${base}_2.fastq.gz \\\n",
        "                ${base}_1.trim.fastq.gz ${base}_1un.trim.fastq.gz \\\n",
        "                ${base}_2.trim.fastq.gz ${base}_2un.trim.fastq.gz \\\n",
        "                SLIDINGWINDOW:4:20 MINLEN:25 ILLUMINACLIP:NexteraPE-PE.fa:2:40:15 \n",
        "done"
      ],
      "execution_count": null,
      "outputs": []
    },
    {
      "cell_type": "code",
      "metadata": {
        "id": "jMXL3XrQxFYr"
      },
      "source": [
        "!ls -l *.sh"
      ],
      "execution_count": null,
      "outputs": []
    },
    {
      "cell_type": "code",
      "metadata": {
        "id": "phIsIb8yxGuu"
      },
      "source": [
        "# We need to make this file runnable:\n",
        "! chmod u+x run_trims.sh"
      ],
      "execution_count": null,
      "outputs": []
    },
    {
      "cell_type": "code",
      "metadata": {
        "id": "IQ3p76BUxRPn"
      },
      "source": [
        "!ls -l *.sh"
      ],
      "execution_count": null,
      "outputs": []
    },
    {
      "cell_type": "code",
      "metadata": {
        "id": "a9NboLrIxTFM"
      },
      "source": [
        "# So now we can run it\n",
        "! ./run_trims.sh"
      ],
      "execution_count": null,
      "outputs": []
    },
    {
      "cell_type": "markdown",
      "metadata": {
        "id": "ykbS-k_Qxq_9"
      },
      "source": [
        "We’ve now completed the trimming and filtering steps of our quality control process. \n",
        "\n",
        "Before we move on, let’s move our trimmed FASTQ files to a new subdirectory within our `data/` directory."
      ]
    },
    {
      "cell_type": "code",
      "metadata": {
        "id": "xLkHfTNjxdNJ"
      },
      "source": [
        "! mkdir -p /content/data/trimmed_fastq\n",
        "! mv *.trim* /content/data/trimmed_fastq"
      ],
      "execution_count": null,
      "outputs": []
    },
    {
      "cell_type": "markdown",
      "metadata": {
        "id": "i4ux1JzOyL5i"
      },
      "source": [
        "Confirm the files are moved by checking in the file viewer to the left."
      ]
    },
    {
      "cell_type": "markdown",
      "metadata": {
        "id": "Aj_uK_jHyVzw"
      },
      "source": [
        "## Part 3: Alignment to a reference genome\n",
        "\n",
        "We mentioned before that we are working with files from a long-term evolution study of an E. coli population (designated Ara-3). \n",
        "\n",
        "Now that we have looked at our data to make sure that it is high quality, and removed low-quality base calls, we can perform variant calling to see how the population changed over time. \n",
        "\n",
        "We care how this population changed relative to the original population, E. coli strain REL606. \n",
        "\n",
        "Therefore, we will align each of our samples to the E. coli REL606 reference genome, and see what differences exist in our reads versus the genome.\n",
        "\n"
      ]
    },
    {
      "cell_type": "markdown",
      "metadata": {
        "id": "RZJiPxM6yruf"
      },
      "source": [
        "We perform read alignment or mapping to determine where in the genome our reads originated from. \n",
        "\n",
        "There are a number of tools to choose from and, while there is no gold standard, there are some tools that are better suited for particular NGS analyses. \n",
        "\n",
        "We will be using the Burrows Wheeler Aligner (BWA), which is a software package for mapping low-divergent sequences against a large reference genome.\n",
        "\n",
        "The alignment process consists of two steps:\n",
        "\n",
        "* Indexing the reference genome\n",
        "* Aligning the reads to the reference genome"
      ]
    },
    {
      "cell_type": "code",
      "metadata": {
        "id": "qzj1yscuyF56"
      },
      "source": [
        "# First get the reference genome for E. coli REL606\n",
        "! mkdir -p /content/data/ref_genome\n",
        "! curl -L -o /content/data/ref_genome/ecoli_rel606.fasta.gz ftp://ftp.ncbi.nlm.nih.gov/genomes/all/GCA/000/017/985/GCA_000017985.1_ASM1798v1/GCA_000017985.1_ASM1798v1_genomic.fna.gz\n",
        "! gunzip /content/data/ref_genome/ecoli_rel606.fasta.gz"
      ],
      "execution_count": null,
      "outputs": []
    },
    {
      "cell_type": "markdown",
      "metadata": {
        "id": "GxuVG2u_zvq9"
      },
      "source": [
        "To make life a bit easier, we'll also download a set of trimmed FASTQ files to work with. These are small subsets of our real trimmed data, and will enable us to run our variant calling workflow quite quickly."
      ]
    },
    {
      "cell_type": "code",
      "metadata": {
        "id": "lnSa1QJwz3TE"
      },
      "source": [
        "!curl -L -o sub.tar.gz https://ndownloader.figshare.com/files/14418248\n",
        "!tar xvf sub.tar.gz\n",
        "!mv sub/ /content/data/trimmed_fastq_small"
      ],
      "execution_count": null,
      "outputs": []
    },
    {
      "cell_type": "markdown",
      "metadata": {
        "id": "N3g8jnvaEkvU"
      },
      "source": [
        ""
      ]
    },
    {
      "cell_type": "markdown",
      "metadata": {
        "id": "deLq1nAu0ORk"
      },
      "source": [
        "### Part 3.1: Index the reference genome\n",
        "\n",
        "Our first step is to index the reference genome for use by BWA. Indexing allows the aligner to quickly find potential alignment sites for query sequences in a genome, which saves time during alignment. \n",
        "\n",
        "Indexing the reference only has to be run once. The only reason you would want to create a new index is if you are working with a different reference genome or you are using a different tool for alignment."
      ]
    },
    {
      "cell_type": "code",
      "metadata": {
        "id": "IzHSdECU0FZf"
      },
      "source": [
        "!bwa index /content/data/ref_genome/ecoli_rel606.fasta"
      ],
      "execution_count": null,
      "outputs": []
    },
    {
      "cell_type": "markdown",
      "metadata": {
        "id": "GSU7UMLA0e95"
      },
      "source": [
        "### Part 3.2: Align reads to the reference genome\n",
        "\n",
        "The alignment process consists of choosing an appropriate reference genome to map our reads against and then deciding on an aligner. We will use the BWA-MEM algorithm, which is the latest and is generally recommended for high-quality queries as it is faster and more accurate.\n",
        "\n",
        "We’re going to start by aligning the reads from just one of the samples in our dataset (SRR2584866). Later, we’ll be iterating this whole process on all of our sample files."
      ]
    },
    {
      "cell_type": "code",
      "metadata": {
        "id": "s7Fo1mUL1Sfz"
      },
      "source": [
        "# make a directory to receive the SAM files\n",
        "! mkdir -p /content/results/sam"
      ],
      "execution_count": null,
      "outputs": []
    },
    {
      "cell_type": "code",
      "metadata": {
        "id": "5QS0bbnO0cJj"
      },
      "source": [
        "! bwa mem /content/data/ref_genome/ecoli_rel606.fasta /content/data/trimmed_fastq_small/SRR2584866_1.trim.sub.fastq /content/data/trimmed_fastq_small/SRR2584866_2.trim.sub.fastq > /content/results/sam/SRR2584866.aligned.sam"
      ],
      "execution_count": null,
      "outputs": []
    },
    {
      "cell_type": "markdown",
      "metadata": {
        "id": "5TTCPZTT1xB2"
      },
      "source": [
        "We will convert the `SAM` file to `BAM` format using the `samtools` program with the `view` command and tell this command that the input is in `SAM` format `(-S)` and to output `BAM` format `(-b)`:"
      ]
    },
    {
      "cell_type": "code",
      "metadata": {
        "id": "CxjOqLnx2OOK"
      },
      "source": [
        "# create a bam output directory\n",
        "! mkdir -p /content/results/bam"
      ],
      "execution_count": null,
      "outputs": []
    },
    {
      "cell_type": "code",
      "metadata": {
        "id": "lAHZIwaD1Ert"
      },
      "source": [
        "! samtools view -S -b /content/results/sam/SRR2584866.aligned.sam > /content/results/bam/SRR2584866.aligned.bam"
      ],
      "execution_count": null,
      "outputs": []
    },
    {
      "cell_type": "markdown",
      "metadata": {
        "id": "Hh4xCLly2itc"
      },
      "source": [
        "### Part 3.3: Sort BAM file by coordinates\n",
        "\n",
        "Next we sort the BAM file using the `sort` command from `samtools`. `-o` tells the command where to write the output."
      ]
    },
    {
      "cell_type": "code",
      "metadata": {
        "id": "KeRO6DyH2YIB"
      },
      "source": [
        "!samtools sort -o /content/results/bam/SRR2584866.aligned.sorted.bam /content/results/bam/SRR2584866.aligned.bam "
      ],
      "execution_count": null,
      "outputs": []
    },
    {
      "cell_type": "markdown",
      "metadata": {
        "id": "Ib-3t4US270X"
      },
      "source": [
        "## Part 4: Variant Calling\n",
        "\n",
        "A variant call is a conclusion that there is a nucleotide difference vs. some reference at a given position in an individual genome or transcriptome, often referred to as a Single Nucleotide Polymorphism (SNP). \n",
        "\n",
        "The call is usually accompanied by an estimate of variant frequency and some measure of confidence. Similar to other steps in this workflow, there are a number of tools available for variant calling. In this workshop we will be using `bcftools`, but there are a few things we need to do before actually calling the variants."
      ]
    },
    {
      "cell_type": "markdown",
      "metadata": {
        "id": "T0tM4Of13Ek9"
      },
      "source": [
        "### Part 4.1: Calculate the read coverage of positions in the genome\n",
        "\n",
        "Do the first pass on variant calling by counting read coverage with `bcftools`. \n",
        "\n",
        "We will use the command `mpileup`. The flag `-O b` tells `bcftools` to generate a bcf format output file, -o specifies where to write the output file, and -f flags the path to the reference genome:"
      ]
    },
    {
      "cell_type": "code",
      "metadata": {
        "id": "M2uzQVB33eIo"
      },
      "source": [
        "# make a bcf directory\n",
        "! mkdir -p /content/results/bcf"
      ],
      "execution_count": null,
      "outputs": []
    },
    {
      "cell_type": "code",
      "metadata": {
        "id": "uCT3PYDo22A5"
      },
      "source": [
        "!bcftools mpileup -O b -o /content/results/bcf/SRR2584866_raw.bcf \\\n",
        "-f /content/data/ref_genome/ecoli_rel606.fasta /content/results/bam/SRR2584866.aligned.sorted.bam "
      ],
      "execution_count": null,
      "outputs": []
    },
    {
      "cell_type": "markdown",
      "metadata": {
        "id": "cqcqneWW3wXn"
      },
      "source": [
        "### Part 4.2: Detect the single nucleotide polymorphisms (SNPs)\n",
        "\n",
        "Identify SNPs using bcftools call. \n",
        "\n",
        "We have to specify ploidy with the flag `--ploidy`, which is one for the haploid E. coli. `-m` allows for multiallelic and rare-variant calling, `-v` tells the program to output variant sites only (not every site in the genome), and `-o` specifies where to write the output file:"
      ]
    },
    {
      "cell_type": "code",
      "metadata": {
        "id": "vrEaB2u04BDy"
      },
      "source": [
        "!bcftools call --ploidy 1 -m -v -o /content/results/bcf/SRR2584866_variants.vcf /content/results/bcf/SRR2584866_raw.bcf "
      ],
      "execution_count": null,
      "outputs": []
    },
    {
      "cell_type": "markdown",
      "metadata": {
        "id": "ZSAfOEyb4Q2K"
      },
      "source": [
        "### Part 4.3: Filter and report the SNP variants in variant calling format (VCF)\n",
        "\n",
        "Filter the SNPs for the final output in VCF format, using `vcfutils.pl`:"
      ]
    },
    {
      "cell_type": "code",
      "metadata": {
        "id": "e4Pgmlqj4l2a"
      },
      "source": [
        "# make the vcf directory to receive the results\n",
        "! mkdir -p /content/results/vcf"
      ],
      "execution_count": null,
      "outputs": []
    },
    {
      "cell_type": "code",
      "metadata": {
        "id": "_PwNZmAA4Xzy"
      },
      "source": [
        "!vcfutils.pl varFilter /content/results/bcf/SRR2584866_variants.vcf  > /content/results/vcf/SRR2584866_final_variants.vcf"
      ],
      "execution_count": null,
      "outputs": []
    },
    {
      "cell_type": "code",
      "metadata": {
        "id": "dCMQBOuY4twd"
      },
      "source": [
        ""
      ],
      "execution_count": null,
      "outputs": []
    }
  ]
}